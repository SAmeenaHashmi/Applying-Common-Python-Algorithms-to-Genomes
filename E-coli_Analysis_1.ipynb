{
  "nbformat": 4,
  "nbformat_minor": 0,
  "metadata": {
    "colab": {
      "provenance": [],
      "authorship_tag": "ABX9TyO9IgQM+idHKImHYL/nYI4z",
      "include_colab_link": true
    },
    "kernelspec": {
      "name": "python3",
      "display_name": "Python 3"
    },
    "language_info": {
      "name": "python"
    }
  },
  "cells": [
    {
      "cell_type": "markdown",
      "metadata": {
        "id": "view-in-github",
        "colab_type": "text"
      },
      "source": [
        "<a href=\"https://colab.research.google.com/github/SAmeenaHashmi/Self-Taught-Bioinformatics/blob/main/E-coli_Analysis_1.ipynb\" target=\"_parent\"><img src=\"https://colab.research.google.com/assets/colab-badge.svg\" alt=\"Open In Colab\"/></a>"
      ]
    },
    {
      "cell_type": "code",
      "execution_count": 117,
      "metadata": {
        "id": "3eU4Wg9TlTLG"
      },
      "outputs": [],
      "source": [
        "with open(\"/SRR28368091[1].fastq\", \"r\") as f:\n",
        "    data = f.read()\n",
        "    '''\n",
        "    Organism name: Escherichia coli\n",
        "    URL: https://www.ncbi.nlm.nih.gov/sra/SRX23973193[accn]\n",
        "    External Id: PNUSAE171872:wgs\n",
        "    Submitted by: PulseNet Next Generation Subtyping Methods Unit (Pulsenet)\n",
        "    Bases: 233.5M\n",
        "    Run: SRR28368091\n",
        "    '''"
      ]
    },
    {
      "cell_type": "code",
      "source": [
        "import matplotlib.pyplot as plt"
      ],
      "metadata": {
        "id": "d9_-tvMFvWeW"
      },
      "execution_count": 118,
      "outputs": []
    },
    {
      "cell_type": "markdown",
      "source": [
        "The following function reads each line of our file, stores the reads and quality scores in the seq and qual variables respectively, and strips trailing whitespace from two of the lines."
      ],
      "metadata": {
        "id": "KHl1cVb3aInm"
      }
    },
    {
      "cell_type": "code",
      "source": [
        "def readFastq(filename):\n",
        "    sequences = []\n",
        "    qualities = []\n",
        "    with open(filename) as fh:\n",
        "        while True:\n",
        "            fh.readline() # read tag line but skip\n",
        "            seq = fh.readline().rstrip() # read base sequence, strip off trailing space\n",
        "            fh.readline() # read but skip placeholder line\n",
        "            qual = fh.readline().rstrip() #read base quality line\n",
        "            if len(seq) == 0: #to check if program has reached file end\n",
        "                break\n",
        "            sequences.append(seq) #append values to list\n",
        "            qualities.append(qual)\n",
        "    return sequences, qualities\n",
        "seqs, quals = readFastq('/SRR28368091[1].fastq') #run the function"
      ],
      "metadata": {
        "id": "IEGOJcqFBf2U"
      },
      "execution_count": 92,
      "outputs": []
    },
    {
      "cell_type": "code",
      "source": [
        "print(seqs[:10]) #to check if program read correctly"
      ],
      "metadata": {
        "colab": {
          "base_uri": "https://localhost:8080/"
        },
        "id": "ty8wqB7eG4Gr",
        "outputId": "c598be85-fa8b-4d7c-ded7-efdff7207122"
      },
      "execution_count": 95,
      "outputs": [
        {
          "output_type": "stream",
          "name": "stdout",
          "text": [
            "['TGATTACGCTGATTCTGGTGTTTGGCGTTGGCAACGCACTGGTCCATATTTTATCGAGCTTTAATTTACTGCCGGTGTATCAGTAATCAGCGGTGCCTTATCCGACATTTCTGCTGCCTACACAATGCCTGATGCGCTTCGCTTATCAGGG', 'ACACATCGACATCCAGTTTCTCTTTAGCGGTGTCGATACCGATATAATGAAGTTCATGTTCCATAGTGAAACCAACCTTGCAAATACGGATTACCGGGAAAACCGGTCCATGATACTGTCCGGTTTATCACTTTGGGAGAAAGGCAGTCCG', 'ACCTGATAAGCGAAGCGCATCAGGCATTGTGTAGGCAGCAGAAATGTCGGATAAGGCACCGCTGATTACTGATACACCGGCAGTAAATTAAAGCTCGATAAAATATGGACCAGTGCGTTGCCAACGCCAAACACCAGAATCAGCGTAATCA', 'ACTCAGCCCTGGGGCGCTTGAAAACGGCATTGCTGACCTTTGCCCCGCCTGTTGTGGGTGGTCTACTGTTCCCGAACGGATTCCTGTACGCCATTGGTTATGCTGGTTTAGCAGCTACCATCTGGGCGGCAAATGTTCCGGCGCTGTTAG', 'GTGTTAGCGAATTTTTTGGTGCGATGACGACCATCAGGACGCAACACATCGACATCCAGTTTCTCTTTAGCGGTGTCGATACCGATATAATGAAGTTCATGTTCCATAGTGAAACCAACCTTGCAAATACGGATTACCGGGAAAACCGGT', 'GATTACGCTGATTCTGGTGTTTGGCGTTGGCAACGCACTGGTCCATATTTTATCGAGCTTTAATTTACTGCCGGTGTATCAGTAATCAGCGGTGCCTTATCCGACATTTCTGCTGCCTACACAATGCCTGATGCGCTTCGCTTATCAGGT', 'GACCTGATAAGCGAAGCGCATCAGGCATTGTGTAGGCAGCAGAAATGTCGGATAAGGCACCGCTGATTACTGATACACCGGCAGTAAATTAAAGCTCGATAAAATATGGACCAGTGCGTTGCCAACGCCAAACACCAGAATCAGCGTAAT', 'TTGCAGAGAAGGGCGGTAATATTGATGTGCTGGTACAGGCATTAAGCGGCGTGCTGAACAGCCGTAGCCTGGACCTTCTGCTGGTCGTGTTCTCAAACTTTGCGGTAGCGAGTTCGTTCCTTGGCGTAACGCTGGGTTTGTTTGACTAT', 'ACGCAACACATCGACATCCAGTTTCTCTTCAGCGGTGTCGATACCGATATAATGAAGTTCATGTTCCATAGTGAAACCAACCTTGCAAATACGGATTACCGGGAAAACCGGTCCATGATACTGTCCGGTTTATCACTTTGGGAGAAAGGCA', 'CGCTGATTCTGGTGTTTGGCGTTGGCAACGCACTGGTCCATATTTTATCGAGCTTTAATTTACTGCCGGTGTATCAGTAATCAGCGGTGCCTTATCCGACATTTCTGCTGCCTACACAATGCCTGATGCGCTTCGCTTATCAGGTCTTGTA']\n"
          ]
        }
      ]
    },
    {
      "cell_type": "code",
      "source": [
        "print(quals[:10]) #same but for quality reads"
      ],
      "metadata": {
        "colab": {
          "base_uri": "https://localhost:8080/"
        },
        "id": "PXvZq4XYG-pT",
        "outputId": "3a546c04-4f0d-4e0a-94e3-de6103a9f658"
      },
      "execution_count": 97,
      "outputs": [
        {
          "output_type": "stream",
          "name": "stdout",
          "text": [
            "['FFFFFFFFFFFFFFFFFFFFFFFFFFFFFFFFFFFFFFFFFFFFFFFFFFFFFFFFFFFFFFFFFFFFFFFFFFFFFFFFFFFFFFFFFFFFFFFFFFFFFFFFFFF::FFFFFFFFFFFFFFFFFF:FFFFFFFFFFFFFFFFFFFFFF:', 'FFFFFFFFFFFFFFFFFFFFFFFFFFFFFFFFFFFFFFFFFFFFFF:FFFFF:FFF:FFFFFFFFFFFFFFFFFFFFFFFFFFFFFFFFF:FFFFFFFFFFFFFFFFFFF:FFFFFFF,FFFF,,FFFFFFF,FFFFFFFFFFF:FFFFF,', 'FFFFFFFFFFFFFFFFFFFFFFFFFF:FFFFFFFFFFFFFFFFFFFFFFFFF:FF:FFFFFFFFF:FFFFF:FFFFFFFFFFF:F::FFF,FFFFFFFFFFFFFFFFFFFFFFFFFFFFFFFFFF:FFF:FFFFFFF,FFFFFFF:FF::F', 'FFFFFFFFFFFFFFFFFFFFFFFFFFFFFFFFFFFFFFFFFFFFFFFFFFFFFFFFFF:FFFFFFFFFFFFFFFFFFFFFFFFFFFFFFFFFFFFFFFFFFFFFFFFFFFFFFFFFFFFFFFFFFFFFFFFF,FF:,FFFFFFFFFFFFF', 'FFFFFFFFFFFFFFFFFFFFFFFFFFFFFFFFFFFFFFFFFFFFFFFFFFFFFFFFFFFFFFFFFFFFFFFFFFFFFFFFFFFFFFFFF:FFFFFFFFFFFF:FFFFFFFFFFFFFFFFFFFFFF:FFFFFFFFFFFFFFFFFFFFFFFF', 'FFFFFFFFFFFFFFFFFFFFFFFFFFFFFFFFFFFFFFFFFFFFFFFFFFFFFFFFFFFFFFFFFFFFFFFFFFFFFFFFFFFF:FFFFFFFFFFFFFFFFFFFFFFFFFFFFFFFFFFFFFFFFFFF:FFFFFFFFFFFFF:FFFFFFF', 'FFFFFFFFFFFFFFFFFFFF:FFFFFFFFFFFFFFFFFFFFFFFFFFFFFFFFFFFFFFFFFFFFFFFFFFFF:FFFFFFFFFFFFF,,F:FFFFFFFFFF,F,:F:FFFFFFFF:F:FFFFFFFFF:FFF,FFFFFF,FFFFFFFFFF:', 'FFFFFFFFFFFFFFFFFFFFFFFFFFFFFFFFFFFFFFFFFFFFFFFFFFFFFFFFFFFFFFFFFFFFFFFFFFFFFFFFFFFFFF:FFFFFFFFFFFFFF:FFFFFFFF:FFFFFFFFFFFFFFFFFFF,FFFFFFFFFFFFFFFFFF', 'FFFFFFFFFFFFFFFFFFFFFFFFFFFFFFFFFFFFFFFFFFFFFFFFFFFFFFFFF:FFFFFFFFFFFFFFFFFFFFFFFFFFFFFFFFFFFFFFFFFFFFFFFFFFFFFFFFFFFFFFFFFFFFFF,FFF:FFFFFFFFFFFFFFFFFF', 'FFFFFFFFFFFFFFFFFFFFFFFFFFFFFFFFFFFFFFFFFFFFFFFFFFFFFFFFFFFFFFFFFFFFFFFFFFFFFFFFFFFFFFFFFFFFFFFFFFFFFFFFFFFFFFFFFFFFFFFFFFFFFFFFFFFFFFFFFFF:FFFFFFFFF:F']\n"
          ]
        }
      ]
    },
    {
      "cell_type": "markdown",
      "source": [
        "The previous results match the information in the file. The program has read the file correctly. Next, we will examine the quality scores of this dataset."
      ],
      "metadata": {
        "id": "R1hPYVrdMggY"
      }
    },
    {
      "cell_type": "code",
      "source": [
        "def phred33ToQ(qual): #function to convert phred33 encoded value to quality scores\n",
        "    return ord(qual) - 33"
      ],
      "metadata": {
        "id": "DYbudyQKBvi6"
      },
      "execution_count": 119,
      "outputs": []
    },
    {
      "cell_type": "code",
      "source": [
        "phred33ToQ('F')"
      ],
      "metadata": {
        "colab": {
          "base_uri": "https://localhost:8080/"
        },
        "id": "O2qS1i1OJDsa",
        "outputId": "54cfddf5-64f4-4300-9afc-ff05375fd68f"
      },
      "execution_count": 114,
      "outputs": [
        {
          "output_type": "execute_result",
          "data": {
            "text/plain": [
              "37"
            ]
          },
          "metadata": {},
          "execution_count": 114
        }
      ]
    },
    {
      "cell_type": "markdown",
      "source": [
        "As an example, a phredd33 value of F corresponds to a quality score of 31."
      ],
      "metadata": {
        "id": "thXmz0CgPUrt"
      }
    },
    {
      "cell_type": "code",
      "source": [
        "def createHistogram(qualityStrings): # Create a histogram of quality scores\n",
        "    hist = [0]*50\n",
        "    for read in qualityStrings:\n",
        "        for phred in read:\n",
        "            q = phred33ToQ(phred) #first convert to quality score\n",
        "            hist[q] += 1 #next in the loop\n",
        "    return hist\n",
        "h = createHist(quals)\n",
        "print(h)"
      ],
      "metadata": {
        "colab": {
          "base_uri": "https://localhost:8080/"
        },
        "id": "_W_E8FpHB0QY",
        "outputId": "87921873-b1f9-4cf5-a497-3c3d69e5138e"
      },
      "execution_count": 120,
      "outputs": [
        {
          "output_type": "stream",
          "name": "stdout",
          "text": [
            "[0, 0, 2698, 0, 0, 0, 0, 0, 0, 0, 0, 2243824, 0, 0, 0, 0, 0, 0, 0, 0, 0, 0, 0, 0, 0, 3765341, 0, 0, 0, 0, 0, 0, 0, 0, 0, 0, 0, 59755738, 0, 0, 0, 0, 0, 0, 0, 0, 0, 0, 0, 0]\n"
          ]
        }
      ]
    },
    {
      "cell_type": "code",
      "source": [
        "# Plot the histogram\n",
        "%matplotlib inline\n",
        "import matplotlib.pyplot as plt\n",
        "plt.plot(range(len(h)), h) # x-values represents the quality scores, y values represent the number of bases with that score,\n",
        "plt.show()"
      ],
      "metadata": {
        "colab": {
          "base_uri": "https://localhost:8080/",
          "height": 445
        },
        "id": "1TKFWK_LIE3V",
        "outputId": "975a7fda-cfb5-4a5f-8c0e-d9d83eb2477c"
      },
      "execution_count": 124,
      "outputs": [
        {
          "output_type": "display_data",
          "data": {
            "text/plain": [
              "<Figure size 640x480 with 1 Axes>"
            ],
            "image/png": "[encoded data removed]"
          },
          "metadata": {}
        }
      ]
    },
    {
      "cell_type": "markdown",
      "source": [
        "In this graph, we can see that about 6e7 bases have a quality score of 37. [According to Illumina,](https://help.basespace.illumina.com/files-used-by-basespace/quality-scores) which is the source of our sequence, a quality score of 30 indicates an error probability of 0.001. At a score of 37, our error probability is even lower.\n",
        "\n",
        "The trailing behind as the next most common quality score is 25, and then 11. This graph corresponds to the quality graph that Illumina provided, shown below. ![image.png](data:image/png;base64,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)"
      ],
      "metadata": {
        "id": "kbLJXiMFQdkZ"
      }
    },
    {
      "cell_type": "code",
      "source": [
        "def findGCByPos(reads):\n",
        "    ''' Find the GC ratio at each position in the read '''\n",
        "    # monitor Gc and total number of bases\n",
        "    gc = [0] * 151 #151 one more than the length of each read\n",
        "    totals = [0] * 151\n",
        "\n",
        "    for read in reads: #read loop\n",
        "        for i in range(len(read)): #base loop\n",
        "            if read[i] == 'C' or read[i] == 'G':\n",
        "                gc[i] += 1\n",
        "            totals[i] += 1 #for total bases, increment in all cases\n",
        "    # divide GC by total for average at each position\n",
        "    for i in range(len(gc)):\n",
        "        if totals[i] > 0: #to avoid dividing by zero\n",
        "            gc[i] /= float(totals[i])\n",
        "    return gc\n",
        "\n",
        "gc = findGCByPos(seqs)\n",
        "plt.plot(range(len(gc)), gc)\n",
        "plt.show()"
      ],
      "metadata": {
        "colab": {
          "base_uri": "https://localhost:8080/",
          "height": 430
        },
        "id": "cvVj4gmqrX5N",
        "outputId": "87aee737-a9d4-4d26-9348-0864af4e9b88"
      },
      "execution_count": 127,
      "outputs": [
        {
          "output_type": "display_data",
          "data": {
            "text/plain": [
              "<Figure size 640x480 with 1 Axes>"
            ],
            "image/png": "[encoded data removed]"
          },
          "metadata": {}
        }
      ]
    },
    {
      "cell_type": "markdown",
      "source": [
        "The generated graph depicts the average GC content across each position in the DNA sequences. For the most part, the GC content stays consistently just slightly above 50% of the sequences. There is wide variation in the initial positions of each read, ranging from under 0.3 to over 0.7.\n",
        "\n",
        "This is corroborated by the source of the data, cited above. It states the GC content is 50.6%."
      ],
      "metadata": {
        "id": "ayh_fSHZVAMI"
      }
    },
    {
      "cell_type": "markdown",
      "source": [
        "Next is a short function to count the number of each base in this genome."
      ],
      "metadata": {
        "id": "LY4EKIlLWPyt"
      }
    },
    {
      "cell_type": "code",
      "source": [
        "import collections\n",
        "count = collections.Counter() #create a counter\n",
        "for seq in seqs: #for each sequence in our sequences list\n",
        "    count.update(seq) #update counter\n",
        "count"
      ],
      "metadata": {
        "colab": {
          "base_uri": "https://localhost:8080/"
        },
        "id": "t0DfQbuoCKW-",
        "outputId": "5ddc3319-5cac-42bc-990f-03b4ec46c48b"
      },
      "execution_count": 67,
      "outputs": [
        {
          "output_type": "execute_result",
          "data": {
            "text/plain": [
              "Counter({'T': 1017286, 'G': 1076887, 'A': 1011918, 'C': 1064184, 'N': 186})"
            ]
          },
          "metadata": {},
          "execution_count": 67
        }
      ]
    },
    {
      "cell_type": "markdown",
      "source": [
        "These results corroborate the previous graph. We can see that the total GC content just slightly exceeds the AT content. The absolute difference between the AT and GC content is 111867."
      ],
      "metadata": {
        "id": "DmeEHB5JWZck"
      }
    }
  ]
}